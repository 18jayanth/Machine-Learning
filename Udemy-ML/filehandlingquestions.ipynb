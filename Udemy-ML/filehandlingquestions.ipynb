{
 "cells": [
  {
   "cell_type": "markdown",
   "metadata": {},
   "source": [
    "# Module: File Handling Assignments\n",
    "## Lesson: File Handling and Operations\n",
    "### Assignment 1: Reading a File\n",
    "\n",
    "Write a function that reads the contents of a file named `sample.txt` and prints each line.\n",
    "\n",
    "### Assignment 2: Writing to a File\n",
    "\n",
    "Write a function that writes a list of strings to a file named `output.txt`, with each string on a new line.\n",
    "\n",
    "### Assignment 3: Copying a File\n",
    "\n",
    "Write a function that copies the contents of a file named `source.txt` to a new file named `destination.txt`.\n",
    "\n",
    "### Assignment 4: Appending to a File\n",
    "\n",
    "Write a function that appends a given string to the end of a file named `log.txt`.\n",
    "\n",
    "### Assignment 5: Counting Words in a File\n",
    "\n",
    "Write a function that reads the contents of a file named `document.txt` and returns the number of words in the file.\n",
    "\n",
    "### Assignment 6: Finding and Replacing Text\n",
    "\n",
    "Write a function that finds and replaces all occurrences of a given word in a file named `data.txt` with another word.\n",
    "\n",
    "### Assignment 7: Reading a File in Reverse\n",
    "\n",
    "Write a function that reads the contents of a file named `reverse.txt` and prints each line in reverse order.\n",
    "\n",
    "### Assignment 8: Counting Lines, Words, and Characters\n",
    "\n",
    "Write a function that reads the contents of a file named `stats.txt` and returns the number of lines, words, and characters in the file.\n",
    "\n",
    "### Assignment 9: Merging Multiple Files\n",
    "\n",
    "Write a function that merges the contents of multiple files into a single file named `merged.txt`.\n",
    "\n",
    "### Assignment 10: Splitting a Large File\n",
    "\n",
    "Write a function that splits a large file named `large.txt` into smaller files of 100 lines each.\n",
    "\n",
    "### Assignment 11: Creating a Log File\n",
    "\n",
    "Write a function that creates a log file named `activity.log` and writes log messages with timestamps.\n",
    "\n",
    "### Assignment 12: Binary File Operations\n",
    "\n",
    "Write a function that reads a binary file named `image.bin` and writes its contents to another binary file named `copy_image.bin`.\n",
    "\n",
    "### Assignment 13: CSV File Operations\n",
    "\n",
    "Write a function that reads a CSV file named `data.csv` and prints its contents as a list of dictionaries.\n",
    "\n",
    "### Assignment 14: JSON File Operations\n",
    "\n",
    "Write a function that reads a JSON file named `data.json` and prints its contents as a Python dictionary.\n",
    "\n",
    "### Assignment 15: File Permission Handling\n",
    "\n",
    "Write a function that attempts to read a file named `protected.txt` and handles any permission errors gracefully by printing an error message."
   ]
  },
  {
   "cell_type": "code",
   "execution_count": 7,
   "metadata": {},
   "outputs": [
    {
     "name": "stdout",
     "output_type": "stream",
     "text": [
      "Hi i am jayanth\n",
      "my roll is 20021A0518\n",
      "i am b tehc final year student\n",
      "i am from jntu kakinada\n"
     ]
    }
   ],
   "source": [
    "#assignment 1\n",
    "with open('sample.txt','r') as f:\n",
    "    lines=f.readlines()\n",
    "    for line in lines:\n",
    "        print(line.strip())"
   ]
  },
  {
   "cell_type": "code",
   "execution_count": 6,
   "id": "28bb5a65",
   "metadata": {},
   "outputs": [],
   "source": [
    "#assign strings into file\n",
    "#assignment 2\n",
    "list1=[\"hello\",\"how\",\"are\",\"you\"]\n",
    "with open('output.txt','w') as f:\n",
    "    for line in list1:\n",
    "        f.write(line)\n",
    "        f.write('\\n')\n"
   ]
  },
  {
   "cell_type": "code",
   "execution_count": 8,
   "id": "ffe99ede",
   "metadata": {},
   "outputs": [
    {
     "data": {
      "text/plain": [
       "'destination.txt'"
      ]
     },
     "execution_count": 8,
     "metadata": {},
     "output_type": "execute_result"
    }
   ],
   "source": [
    "#assignment 3\n",
    "import shutil\n",
    "shutil.copy('output.txt','destination.txt')"
   ]
  },
  {
   "cell_type": "code",
   "execution_count": 9,
   "id": "441209c0",
   "metadata": {},
   "outputs": [],
   "source": [
    "#assignment-4\n",
    "with open(\"output.txt\",'a') as f:\n",
    "    f.write(\"jayanth\")\n"
   ]
  },
  {
   "cell_type": "code",
   "execution_count": 11,
   "id": "f3471b23",
   "metadata": {},
   "outputs": [
    {
     "name": "stdout",
     "output_type": "stream",
     "text": [
      "17\n"
     ]
    }
   ],
   "source": [
    "#assignment-5\n",
    "with open(\"output.txt\",\"r\") as f:\n",
    "    lines=f.readlines()\n",
    "    print(sum(len(line.split()) for line in lines))\n",
    "    "
   ]
  },
  {
   "cell_type": "code",
   "execution_count": 28,
   "id": "032fdbcd",
   "metadata": {},
   "outputs": [
    {
     "name": "stdout",
     "output_type": "stream",
     "text": [
      "hello\n",
      "how\n",
      "are\n",
      "you\n",
      "jay \n",
      "i am jay i am mister india \n",
      "but i am idiot too\n"
     ]
    }
   ],
   "source": [
    "#assignment-6\n",
    "with open(\"output.txt\",\"r\") as f:\n",
    " lines=f.read()\n",
    " new_lines=lines.replace(\"jayanthi\",\"jay\")\n",
    "with open(\"output.txt\",\"w\") as f:\n",
    "    f.write(new_lines)\n",
    "with open(\"output.txt\",\"r\") as f:\n",
    "    print(f.read())\n",
    "\n",
    " "
   ]
  },
  {
   "cell_type": "code",
   "execution_count": 35,
   "id": "a93767b9",
   "metadata": {},
   "outputs": [
    {
     "name": "stdout",
     "output_type": "stream",
     "text": [
      "but i am idiot too\n",
      "i am jay i am mister india\n",
      "jay\n",
      "you\n",
      "are\n",
      "how\n",
      "hello\n"
     ]
    }
   ],
   "source": [
    "#asisgnment 7\n",
    "with open(\"output.txt\",\"r\") as f:\n",
    "    line=f.readlines()\n",
    "    n=len(line)\n",
    "    for i in range(n):\n",
    "        print((line[n-1-i]).strip())"
   ]
  },
  {
   "cell_type": "code",
   "execution_count": 36,
   "id": "0622e4e8",
   "metadata": {},
   "outputs": [
    {
     "name": "stdout",
     "output_type": "stream",
     "text": [
      "7\n",
      "17\n",
      "69\n"
     ]
    }
   ],
   "source": [
    "#assignment -8\n",
    "with open(\"output.txt\",\"r\") as f:\n",
    "    lines=f.readlines()\n",
    "    print(len(lines))\n",
    "    print(sum(len(line.split()) for line in lines))\n",
    "    print(sum(len(line) for line in lines))\n",
    "    \n"
   ]
  },
  {
   "cell_type": "code",
   "execution_count": 37,
   "id": "8a5f799f",
   "metadata": {},
   "outputs": [
    {
     "data": {
      "text/plain": [
       "'jay.txt'"
      ]
     },
     "execution_count": 37,
     "metadata": {},
     "output_type": "execute_result"
    }
   ],
   "source": [
    "#assignment-9\n",
    "import shutil\n",
    "shutil.copy(\"output.txt\",\"jay.txt\")\n",
    "shutil.copyfile(\"sample.txt\",\"jay.txt\")\n"
   ]
  },
  {
   "cell_type": "code",
   "execution_count": null,
   "id": "1fce180d",
   "metadata": {},
   "outputs": [],
   "source": []
  },
  {
   "cell_type": "code",
   "execution_count": null,
   "id": "345c6b6d",
   "metadata": {},
   "outputs": [],
   "source": []
  },
  {
   "cell_type": "code",
   "execution_count": null,
   "id": "bdbe999d",
   "metadata": {},
   "outputs": [],
   "source": []
  }
 ],
 "metadata": {
  "kernelspec": {
   "display_name": ".venv",
   "language": "python",
   "name": "python3"
  },
  "language_info": {
   "codemirror_mode": {
    "name": "ipython",
    "version": 3
   },
   "file_extension": ".py",
   "mimetype": "text/x-python",
   "name": "python",
   "nbconvert_exporter": "python",
   "pygments_lexer": "ipython3",
   "version": "3.10.1"
  }
 },
 "nbformat": 4,
 "nbformat_minor": 5
}
